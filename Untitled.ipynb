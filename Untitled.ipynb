{
 "cells": [
  {
   "cell_type": "code",
   "execution_count": 1,
   "metadata": {},
   "outputs": [],
   "source": [
    "import sklearn, os\n",
    "import numpy as np\n",
    "import pandas as pd\n",
    "import shap\n",
    "from sklearn.model_selection import train_test_split\n",
    "import matplotlib.pyplot as plt\n",
    "from sklearn.neighbors import NearestNeighbors"
   ]
  },
  {
   "cell_type": "code",
   "execution_count": 2,
   "metadata": {},
   "outputs": [],
   "source": [
    "def returnModel(model):\n",
    "\tif model == \"KNN\":\n",
    "\t\tm = sklearn.neighbors.KNeighborsClassifier()\n",
    "\telif model == \"SVM\":\n",
    "\t\tm = sklearn.svm.SVC(kernel='linear', probability=True)\n",
    "\telif model == \"RF\":\n",
    "\t\tfrom sklearn.ensemble import RandomForestClassifier\n",
    "\t\tm = RandomForestClassifier(n_estimators=100, max_depth=None, min_samples_split=2, random_state=0)\n",
    "\telif model == \"NN\":\n",
    "\t\tfrom sklearn.neural_network import MLPClassifier\n",
    "\t\tm = MLPClassifier(solver='lbfgs', alpha=1e-1, hidden_layer_sizes=(5, 2), random_state=0)\n",
    "\treturn m"
   ]
  },
  {
   "cell_type": "code",
   "execution_count": 3,
   "metadata": {},
   "outputs": [],
   "source": [
    "def returnDataset(dataset):\n",
    "\tif dataset == 'IRIS':\n",
    "\t\tX_train,X_test,Y_train,Y_test = train_test_split(*shap.datasets.iris(), test_size=0.2, random_state=0)\n",
    "\treturn X_train,X_test,Y_train,Y_test"
   ]
  },
  {
   "cell_type": "code",
   "execution_count": 4,
   "metadata": {},
   "outputs": [],
   "source": [
    "def makePrediction(dataset, model, datapoint, random = True):\n",
    "\tX_train,X_test,Y_train,Y_test = returnDataset(dataset)\n",
    "\talgo = returnModel(model)\n",
    "\talgo.fit(X_train, Y_train)\n",
    "\tif random:\n",
    "\t\treturn int(algo.predict([X_test.iloc[datapoint,:]]))\n",
    "\treturn int(algo.predict([pd.Series(datapoint)]))"
   ]
  },
  {
   "cell_type": "code",
   "execution_count": 5,
   "metadata": {},
   "outputs": [],
   "source": [
    "def returnSHAP(dataset, model, datapoint, random = True):\n",
    "\tX_train,X_test,Y_train,Y_test = returnDataset(dataset)\n",
    "\talgo = returnModel(model)\n",
    "\talgo.fit(X_train, Y_train)\n",
    "\texplainer = shap.KernelExplainer(algo.predict_proba, X_train)\n",
    "\tif random:\n",
    "\t\tshap_values = explainer.shap_values(X_test.iloc[datapoint,:])\n",
    "\telse:\n",
    "\t\tshap_values = explainer.shap_values(pd.Series(datapoint))\n",
    "\treturn shap_values"
   ]
  },
  {
   "cell_type": "code",
   "execution_count": 6,
   "metadata": {},
   "outputs": [
    {
     "name": "stderr",
     "output_type": "stream",
     "text": [
      "Using 120 background data samples could cause slower run times. Consider using shap.kmeans(data, K) to summarize the background as K weighted samples.\n"
     ]
    }
   ],
   "source": [
    "sv_random = returnSHAP(\"IRIS\", \"NN\", 26)"
   ]
  },
  {
   "cell_type": "code",
   "execution_count": 7,
   "metadata": {},
   "outputs": [
    {
     "data": {
      "text/html": [
       "[array([-0.03541432,  0.01023832,  0.62219026,  0.07035496]), array([ 0.05115629,  0.03994347, -0.47206762,  0.07976732]), array([-0.01574197, -0.05018178, -0.15012264, -0.15012228])]"
      ],
      "text/plain": [
       "[array([-0.03541432,  0.01023832,  0.62219026,  0.07035496]),\n",
       " array([ 0.05115629,  0.03994347, -0.47206762,  0.07976732]),\n",
       " array([-0.01574197, -0.05018178, -0.15012264, -0.15012228])]"
      ]
     },
     "execution_count": 7,
     "metadata": {},
     "output_type": "execute_result"
    }
   ],
   "source": [
    "sv_random"
   ]
  },
  {
   "cell_type": "code",
   "execution_count": 8,
   "metadata": {},
   "outputs": [
    {
     "name": "stderr",
     "output_type": "stream",
     "text": [
      "Using 120 background data samples could cause slower run times. Consider using shap.kmeans(data, K) to summarize the background as K weighted samples.\n"
     ]
    }
   ],
   "source": [
    "sv_specific = returnSHAP(\"IRIS\", \"NN\", [6.0, 3.3, 6.0, 1.5], False)"
   ]
  },
  {
   "cell_type": "code",
   "execution_count": 9,
   "metadata": {},
   "outputs": [
    {
     "data": {
      "text/html": [
       "[array([ 0.0042747 ,  0.00063576, -0.32485346, -0.00506387]), array([0.01807092, 0.16283494, 0.23713275, 0.22640724]), array([-0.02234562, -0.16347069,  0.08772071, -0.22134337])]"
      ],
      "text/plain": [
       "[array([ 0.0042747 ,  0.00063576, -0.32485346, -0.00506387]),\n",
       " array([0.01807092, 0.16283494, 0.23713275, 0.22640724]),\n",
       " array([-0.02234562, -0.16347069,  0.08772071, -0.22134337])]"
      ]
     },
     "execution_count": 9,
     "metadata": {},
     "output_type": "execute_result"
    }
   ],
   "source": [
    "sv_specific"
   ]
  },
  {
   "cell_type": "code",
   "execution_count": 10,
   "metadata": {},
   "outputs": [
    {
     "data": {
      "text/plain": [
       "0    6.0\n",
       "1    3.3\n",
       "2    6.0\n",
       "3    1.5\n",
       "dtype: float64"
      ]
     },
     "execution_count": 10,
     "metadata": {},
     "output_type": "execute_result"
    }
   ],
   "source": [
    "pd.Series([6.0, 3.3, 6.0, 1.5])"
   ]
  },
  {
   "cell_type": "code",
   "execution_count": 11,
   "metadata": {},
   "outputs": [
    {
     "data": {
      "text/plain": [
       "sepal length (cm)    6.0\n",
       "sepal width (cm)     3.3\n",
       "petal length (cm)    6.0\n",
       "petal width (cm)     1.5\n",
       "dtype: float64"
      ]
     },
     "execution_count": 11,
     "metadata": {},
     "output_type": "execute_result"
    }
   ],
   "source": [
    "X_train,X_test,Y_train,Y_test = returnDataset(\"IRIS\")\n",
    "pd.Series([5.8, 2.8, 5.1, 2.4], index=X_test.columns)"
   ]
  },
  {
   "cell_type": "code",
   "execution_count": 23,
   "metadata": {},
   "outputs": [
    {
     "data": {
      "text/plain": [
       "sepal length (cm)    5.8\n",
       "sepal width (cm)     2.8\n",
       "petal length (cm)    5.1\n",
       "petal width (cm)     2.4\n",
       "Name: 114, dtype: float64"
      ]
     },
     "execution_count": 23,
     "metadata": {},
     "output_type": "execute_result"
    }
   ],
   "source": [
    "X_test.iloc[0,:]"
   ]
  },
  {
   "cell_type": "code",
   "execution_count": 27,
   "metadata": {},
   "outputs": [
    {
     "data": {
      "text/plain": [
       "sepal length (cm)    5.8\n",
       "sepal width (cm)     2.8\n",
       "petal length (cm)    5.1\n",
       "petal width (cm)     2.4\n",
       "Name: 114, dtype: float64"
      ]
     },
     "execution_count": 27,
     "metadata": {},
     "output_type": "execute_result"
    }
   ],
   "source": [
    "pd.Series([5.8, 2.8, 5.1, 2.4], index=X_test.columns,name=114)"
   ]
  },
  {
   "cell_type": "code",
   "execution_count": null,
   "metadata": {},
   "outputs": [],
   "source": [
    "pd.Series(n)"
   ]
  },
  {
   "cell_type": "code",
   "execution_count": 15,
   "metadata": {},
   "outputs": [
    {
     "name": "stderr",
     "output_type": "stream",
     "text": [
      "Using 120 background data samples could cause slower run times. Consider using shap.kmeans(data, K) to summarize the background as K weighted samples.\n"
     ]
    }
   ],
   "source": [
    "algo = returnModel(\"NN\")\n",
    "algo.fit(X_train, Y_train)\n",
    "explainer = shap.KernelExplainer(algo.predict_proba, X_train)"
   ]
  },
  {
   "cell_type": "code",
   "execution_count": 32,
   "metadata": {},
   "outputs": [
    {
     "data": {
      "text/html": [
       "[array([ 0.02113906, -0.00320549, -0.29747304, -0.04552058]), array([-0.03158642,  0.00062226,  0.13278648, -0.40679633]), array([0.01044737, 0.00258323, 0.16468656, 0.4523169 ])]"
      ],
      "text/plain": [
       "[array([ 0.02113906, -0.00320549, -0.29747304, -0.04552058]),\n",
       " array([-0.03158642,  0.00062226,  0.13278648, -0.40679633]),\n",
       " array([0.01044737, 0.00258323, 0.16468656, 0.4523169 ])]"
      ]
     },
     "execution_count": 32,
     "metadata": {},
     "output_type": "execute_result"
    }
   ],
   "source": [
    "explainer.shap_values(pd.Series([5.8, 2.8, 5.1, 2.4], index=X_test.columns))"
   ]
  },
  {
   "cell_type": "code",
   "execution_count": 31,
   "metadata": {},
   "outputs": [
    {
     "data": {
      "text/html": [
       "[array([ 0.02113906, -0.00320549, -0.29747304, -0.04552058]), array([-0.03158642,  0.00062226,  0.13278648, -0.40679633]), array([0.01044737, 0.00258323, 0.16468656, 0.4523169 ])]"
      ],
      "text/plain": [
       "[array([ 0.02113906, -0.00320549, -0.29747304, -0.04552058]),\n",
       " array([-0.03158642,  0.00062226,  0.13278648, -0.40679633]),\n",
       " array([0.01044737, 0.00258323, 0.16468656, 0.4523169 ])]"
      ]
     },
     "execution_count": 31,
     "metadata": {},
     "output_type": "execute_result"
    }
   ],
   "source": [
    "explainer.shap_values(X_test.iloc[0,:])"
   ]
  },
  {
   "cell_type": "code",
   "execution_count": null,
   "metadata": {},
   "outputs": [],
   "source": []
  }
 ],
 "metadata": {
  "kernelspec": {
   "display_name": "Python 3",
   "language": "python",
   "name": "python3"
  },
  "language_info": {
   "codemirror_mode": {
    "name": "ipython",
    "version": 3
   },
   "file_extension": ".py",
   "mimetype": "text/x-python",
   "name": "python",
   "nbconvert_exporter": "python",
   "pygments_lexer": "ipython3",
   "version": "3.5.2"
  }
 },
 "nbformat": 4,
 "nbformat_minor": 2
}
